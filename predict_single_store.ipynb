{
 "cells": [
  {
   "cell_type": "markdown",
   "id": "0e5bf239",
   "metadata": {},
   "source": [
    "# Predicting the sales in a new Big Mart outlet\n",
    "In this notebook, I present an alternative approach to making use of the 2013 sales data of Big Mart. Instead of predicting the sales of each item in every store (as it is done in predict_full.ipynb), I focus on the sales of the individual products in a single store (e.g., for a new store that is about to open). Here, I use the sales data for the other stores as features in the prediction. Again, this is a regression problem, which I will address using Python, particularly the scikit-learn module.\n",
    "\n",
    "More information about the data set are available [here](https://www.kaggle.com/arashnic/big-mart-sale-forecast)."
   ]
  },
  {
   "cell_type": "code",
   "execution_count": 1,
   "id": "cb0e7fe3",
   "metadata": {},
   "outputs": [],
   "source": [
    "# Import the relevant modules\n",
    "import pandas as pd\n",
    "import matplotlib.pyplot as plt\n",
    "import seaborn as sns\n",
    "import numpy as np\n",
    "from sklearn.model_selection import train_test_split\n",
    "from sklearn.preprocessing import StandardScaler\n",
    "from sklearn.model_selection import GridSearchCV\n",
    "from sklearn.model_selection import learning_curve\n",
    "from sklearn.metrics import mean_squared_error\n",
    "from sklearn.linear_model import Lasso"
   ]
  },
  {
   "cell_type": "markdown",
   "id": "92f11c9e",
   "metadata": {},
   "source": [
    "## Auxiliary functions\n",
    "Below are some functions that are used later in the notebook."
   ]
  },
  {
   "cell_type": "code",
   "execution_count": 2,
   "id": "800e6c49",
   "metadata": {},
   "outputs": [],
   "source": [
    "def load_data(filename,store):\n",
    "    \n",
    "    data = pd.read_csv(filename)\n",
    "\n",
    "    # Pivot table\n",
    "    data_p = data.pivot(index='Item_Identifier',columns='Outlet_Identifier',values='Item_Outlet_Sales')\n",
    "\n",
    "    # Select only the items that are sold in the particular store\n",
    "    data_p = data_p[data_p[store].notna()]\n",
    "\n",
    "    \n",
    "    X = data_p.drop(store,axis=1)\n",
    "    y = data_p[store]\n",
    "    \n",
    "    return X, y,data\n",
    "\n",
    "\n",
    "\n",
    "def feature_engineering(X_train,X_test,data,store,Include_Item_MRP=True):\n",
    "    \n",
    "    def compute_total_sales(X):\n",
    "        outlet_sales = data.groupby('Outlet_Identifier')[['Outlet_Type']].apply(pd.DataFrame.mode).droplevel(1)\n",
    "        outlet_sales['Total_Outlet_Sales'] = X.sum()\n",
    "        outlet_sales.reset_index(inplace=True)\n",
    "\n",
    "        dummy = outlet_sales.groupby('Outlet_Type')[['Total_Outlet_Sales']].mean().reset_index()\n",
    "        dummy.rename(columns={'Total_Outlet_Sales':'Average_Outlet_Type_Sales'},inplace=True)\n",
    "\n",
    "        outlet_type_sales = outlet_sales.merge(dummy,how='left',on='Outlet_Type')\n",
    "        outlet_type_sales.set_index('Outlet_Identifier',inplace=True)\n",
    "    \n",
    "        return outlet_type_sales\n",
    "    \n",
    "    \n",
    "    def add_item_mrp():\n",
    "        item_mrp = data[data['Outlet_Identifier'] == store].groupby('Item_Identifier')[['Item_MRP']].mean()\n",
    "        return item_mrp\n",
    "    \n",
    "    \n",
    "    def fill_gaps(X):\n",
    "        #1. Fill in the mean sales of the product\n",
    "        inds = X.index\n",
    "        for ind in inds:\n",
    "            X.loc[ind] = X.loc[ind].fillna(value=X.loc[ind].mean())\n",
    "        \n",
    "        # 2. Fill in with mean for products that are not being sold in the other stores\n",
    "        sales_mean = X.mean().mean()\n",
    "        X.fillna(value=sales_mean,inplace=True)\n",
    "        \n",
    "        return X\n",
    "    \n",
    "    \n",
    "    # Normalize sales by dividing by total sales for the store type\n",
    "    outlet_names = X_train.columns\n",
    "    outlet_type_sales_train = compute_total_sales(X_train)\n",
    "    outlet_type_sales_test = compute_total_sales(X_test)\n",
    "    outlet_type_sales_test['Average_Outlet_Type_Sales'] *= X_train.shape[0] / X_test.shape[0]\n",
    "\n",
    "    X_train_norm = X_train.copy()\n",
    "    X_test_norm = X_test.copy()\n",
    "    \n",
    "    for out in outlet_names:\n",
    "        X_train_norm[out] = X_train[out] / outlet_type_sales_train.loc[out,'Average_Outlet_Type_Sales']\n",
    "        X_test_norm[out] = X_test[out] / outlet_type_sales_test.loc[out,'Average_Outlet_Type_Sales']\n",
    "    \n",
    "    \n",
    "    # Gap filling:\n",
    "    X_train_norm = fill_gaps(X_train_norm)\n",
    "    X_test_norm = fill_gaps(X_test_norm)\n",
    "    \n",
    "\n",
    "    # Add item MRP\n",
    "    if Include_Item_MRP:\n",
    "        item_mrp = add_item_mrp()\n",
    "        X_train_comb = X_train_norm.merge(item_mrp,how='left',left_index=True,right_index=True)\n",
    "        X_test_comb = X_test_norm.merge(item_mrp,how='left',left_index=True,right_index=True)\n",
    "    else:\n",
    "        X_train_comb = X_train_norm\n",
    "        X_test_comb = X_test_norm\n",
    "            \n",
    "            \n",
    "    # Scaling of the data\n",
    "    sc = StandardScaler()\n",
    "    X_train_sc = pd.DataFrame(sc.fit_transform(X_train_comb),columns=X_train_comb.columns,index=X_train_comb.index)\n",
    "    X_test_sc = pd.DataFrame(sc.transform(X_test_comb),columns=X_test_comb.columns,index=X_test_comb.index)\n",
    "    \n",
    "    return X_train_sc,X_test_sc\n",
    "\n",
    "\n",
    "\n",
    "def optimize_lasso(X_train,y_train):\n",
    "    '''Takes the training data, optimizes a Lasso regression.'''\n",
    "    \n",
    "    lasso = Lasso(random_state=42)\n",
    "    params = {'alpha': range(100)}\n",
    "\n",
    "    # The parameter space is small, so I use GridSearchCV\n",
    "    lasso = GridSearchCV(lasso,params,scoring='neg_mean_squared_error',n_jobs=-1,cv=3)\n",
    "    lasso.fit(X_train,y_train)\n",
    "    \n",
    "    return lasso\n",
    "\n",
    "\n",
    "def plot_learning_curve(estimator,X,y,train_sizes,cv):\n",
    "    '''Takes an estimator, the features and labels, computes and plots a learning curve'''\n",
    "\n",
    "    train_sizes, train_scores, valid_scores = learning_curve(estimator,X,y,train_sizes=train_sizes,cv=cv,scoring='neg_mean_squared_error',n_jobs=-1,shuffle=True,random_state=42)\n",
    "\n",
    "    fig, ax = plt.subplots()\n",
    "    plt.plot(train_sizes, -np.mean(train_scores,1), label = 'Training score')\n",
    "    plt.plot(train_sizes, -np.mean(valid_scores,1), label = 'Validation score')\n",
    "    ax.set_xlabel('Training set size', fontsize = 14)\n",
    "    ax.set_ylabel('Mean squared error', fontsize = 14)\n",
    "    ax.legend()\n",
    "    ax.set_title('Learning curve')\n",
    "    "
   ]
  },
  {
   "cell_type": "markdown",
   "id": "b075db3e",
   "metadata": {},
   "source": [
    "## Prepare the data and optimize a Lasso regression\n",
    "The goal is to predict the sales for the outlet \"OUT013\" using the sales of the other store as features. However, in the input data, the identifier of the outlet, the item number, and the sales are columns. Therefore, the first step is to generate a pivot table, in which the individual outlets constitute the columns and the item numbers the rows of the data frame. The numbers in the cells represent the sales of a given item in a given store. The sales of the items in \"OUT013\" are the target variable. The resulting dataframe has 932 rows (one for each item being sold in the outlet \"OUT013\").\n",
    "\n",
    "Since most items are only sold in a few stores, the pivot table is sparse (46 % missing data). I fill the gaps with the average sales for each item. Here, I take into account that the total sales differ between the different types of stores (e.g., grocery stores have lower sales than the other outlets, see the notebook predict_full.ipynb). Since the sales are strongly correlated with the maximum retail price of an item (feature \"Item_MRP\"), I add this as a feature.\n",
    "\n",
    "I then fit a Lasso regression to the sales data, which achieves a mean squared error (MSE) of 1137844. I also tested the performance of other kinds of models (e.g., a Gradient Boosting regressor) but these performed worse than the Lasso regression."
   ]
  },
  {
   "cell_type": "code",
   "execution_count": 3,
   "id": "8fb6ee0b",
   "metadata": {},
   "outputs": [
    {
     "data": {
      "text/plain": [
       "'Lasso regression: MSE = 1137843.73'"
      ]
     },
     "metadata": {},
     "output_type": "display_data"
    },
    {
     "data": {
      "text/plain": [
       "'Best parameters: '"
      ]
     },
     "metadata": {},
     "output_type": "display_data"
    },
    {
     "name": "stdout",
     "output_type": "stream",
     "text": [
      "alpha : 44\n"
     ]
    }
   ],
   "source": [
    "store = 'OUT013' # the outlet for which the sales shall be predicted\n",
    "\n",
    "# Load the data, generate the pivot table\n",
    "X,y,data = load_data('train.csv',store)\n",
    "\n",
    "\n",
    "# Divide in train and test data\n",
    "X_train, X_test, y_train, y_test = train_test_split(X,y,test_size=0.2,random_state=42)\n",
    "\n",
    "# Preprocessing of the data\n",
    "X_train_sc, X_test_sc = feature_engineering(X_train,X_test,data,store,Include_Item_MRP=True)\n",
    "\n",
    "\n",
    "# Optimize the linear regression (Lasso regularization)\n",
    "lasso = optimize_lasso(X_train_sc,y_train)\n",
    "\n",
    "\n",
    "# Model performance\n",
    "display('Lasso regression: MSE = {:.2f}'.format(-1*lasso.best_score_))\n",
    "\n",
    "# Model parameters for the best solution:\n",
    "display('Best parameters: ')\n",
    "for key,value in lasso.best_params_.items():\n",
    "    print(key, ':', value)"
   ]
  },
  {
   "cell_type": "code",
   "execution_count": 4,
   "id": "b737ca05",
   "metadata": {},
   "outputs": [
    {
     "data": {
      "text/plain": [
       "(745, 10)"
      ]
     },
     "execution_count": 4,
     "metadata": {},
     "output_type": "execute_result"
    }
   ],
   "source": [
    "X_train_sc.shape"
   ]
  },
  {
   "cell_type": "markdown",
   "id": "dc5cc694",
   "metadata": {},
   "source": [
    "## Model performance and important features\n",
    "Here I test the performance of the model using a set of validation data. The plot on the top right shows a scatter plot of the predicted sales against the true sales for the validation data (correlation: 0.73). Similar to the other model (see the notebook predict_full.ipynb), high sales are underestimated by the model.\n",
    "The learning curve (bottom plot) suggests that the model is dominated by bias. Improving the prediction would require additional features. However, adding data from more outlets does not lead to a significant improvement. The plot on the top left shows the coefficients of the features derived by the Lasso regression. Since all features have been normalized to a have a standard deviation of one, the coefficients are directly comparable. As can be seen, the linear model is dominated by the feature \"Item_MRP\" (the price of the item), the sales in the existing stores only have a minor influence. For comparison, a Lasso regression that only uses \"Item_MRP\" as an input leads to a correlation of 0.72 between the true and the predicted sales for the validation data. Without \"Item_MRP\", the correlation is 0.63. Therefore, a better prediction would require more meaningful features describing the items."
   ]
  },
  {
   "cell_type": "code",
   "execution_count": 5,
   "id": "3e99cd00",
   "metadata": {
    "scrolled": true
   },
   "outputs": [
    {
     "data": {
      "image/png": "[encoded data removed]",
      "text/plain": [
       "<Figure size 864x432 with 2 Axes>"
      ]
     },
     "metadata": {
      "needs_background": "light"
     },
     "output_type": "display_data"
    },
    {
     "data": {
      "image/png": "[encoded data removed]",
      "text/plain": [
       "<Figure size 432x288 with 1 Axes>"
      ]
     },
     "metadata": {
      "needs_background": "light"
     },
     "output_type": "display_data"
    }
   ],
   "source": [
    "# Apply the Lasso regression model to a set of validation data\n",
    "X_train2, X_val, y_train2, y_val = train_test_split(X_train_sc,y_train,test_size=0.2,random_state=42)\n",
    "lasso_reg = Lasso(**lasso.best_params_, random_state=42)\n",
    "lasso_reg.fit(X_train2,y_train2)\n",
    "y_pred = lasso_reg.predict(X_val)\n",
    "\n",
    "\n",
    "# Plot the coefficients of the features\n",
    "fig, ax = plt.subplots(1,2,figsize=[12,6],constrained_layout = True)\n",
    "sorted_idx = lasso_reg.coef_.argsort()\n",
    "ax[0].barh(X_train2.columns[sorted_idx],lasso_reg.coef_[sorted_idx])\n",
    "ax[0].axvline(x=0, ymin=0, ymax=1,color='k',linewidth=0.5)\n",
    "ax[0].set_xlabel('Coefficient of the features')\n",
    "ax[0].set_title('Coefficients of the features');\n",
    "\n",
    "\n",
    "# Plot a scatter plot between the true and the predicted sales for the validation data\n",
    "sns.scatterplot(x=y_val,y=y_pred,ax=ax[1])\n",
    "ax[1].plot([0,6e3],[0,6e3],'k')\n",
    "ax[1].axis('equal')\n",
    "ax[1].set_xlabel('True sales')\n",
    "ax[1].set_ylabel('Predicted sales')\n",
    "ax[1].set_title('Scatter plot of predicted versus true sales');\n",
    "\n",
    "\n",
    "# Learning curve\n",
    "train_sizes=np.arange(0.1,1.1,0.1)\n",
    "plot_learning_curve(lasso_reg,X_train_sc,y_train,train_sizes,3)"
   ]
  },
  {
   "cell_type": "markdown",
   "id": "d7098929",
   "metadata": {},
   "source": [
    "## Test data\n",
    "In the last step, I evaluate the model using the test data. The resulting mean squared error (1387926) is slightly higher than the one achieved in the cross-validation (MSE = 1137844).\n",
    "For comparison, the variance of the sales in the test data is 2616762."
   ]
  },
  {
   "cell_type": "code",
   "execution_count": 6,
   "id": "fd836867",
   "metadata": {},
   "outputs": [
    {
     "data": {
      "text/plain": [
       "'Test data: MSE =  1387925.99'"
      ]
     },
     "metadata": {},
     "output_type": "display_data"
    }
   ],
   "source": [
    "# MSE of the test data\n",
    "test_score = mean_squared_error(y_test,lasso_reg.predict(X_test_sc))\n",
    "\n",
    "display('Test data: MSE =  {:.2f}'.format(test_score))"
   ]
  },
  {
   "cell_type": "markdown",
   "id": "2b35abcc",
   "metadata": {},
   "source": [
    "## Summary\n",
    "In this notebook, I predict the sales of the individual products in a new store. As input, I use the sales of the items in the existing stores plus the retail prices of the products. Applying a Lasso regression leads to an MSE of 1387926 and a correlation coefficient of 0.73 between the predicted and the true sales. Hence, the model performs similarly as the alternative approach, where the sales of the items in each individual store are predicted.\n",
    "\n",
    "The retail price of the items (feature \"Item_MRP\") is the most important feature, the sales in the existing outlets have only a minor influence on the predictions. Therefore, the model would not greatly benefit from taking into account additional stores. Instead, additional features describing the items that are being sold should be added to the data set.\n",
    "\n",
    "The current model is much simpler and computationally less expensive than the detailed prediction, but it achieves a similar quality in the prediction. However, there are two caveats that need to be considered when using this model. In this simple model, the individual stores are features and the items are instances. When using these data to predict the sales in another store, the model implicitly makes the assumption that the popularity of the individual items is the same in the different stores. In addition, the total sales differ between the individual stores, depending on the type of the outlet. In this example, the training data originate from outlet \"OUT013\", which is of the type \"Supermarket Type 1\". Hence, the model predicts the sales for a new store of the type \"Supermarket Type 1\". If the newly opened store is of a different type, e.g., a grocery store, the training data need to be adjusted accordingly."
   ]
  }
 ],
 "metadata": {
  "kernelspec": {
   "display_name": "Python 3",
   "language": "python",
   "name": "python3"
  },
  "language_info": {
   "codemirror_mode": {
    "name": "ipython",
    "version": 3
   },
   "file_extension": ".py",
   "mimetype": "text/x-python",
   "name": "python",
   "nbconvert_exporter": "python",
   "pygments_lexer": "ipython3",
   "version": "3.8.8"
  }
 },
 "nbformat": 4,
 "nbformat_minor": 5
}
